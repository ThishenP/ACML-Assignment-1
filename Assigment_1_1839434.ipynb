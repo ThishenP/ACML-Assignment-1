{
 "cells": [
  {
   "cell_type": "code",
   "execution_count": 1,
   "id": "optional-henry",
   "metadata": {},
   "outputs": [],
   "source": [
    "import pandas as pd\n",
    "import numpy as np\n",
    "import matplotlib.pyplot as plt"
   ]
  },
  {
   "cell_type": "code",
   "execution_count": 2,
   "id": "anticipated-garage",
   "metadata": {},
   "outputs": [
    {
     "data": {
      "text/html": [
       "<div>\n",
       "<style scoped>\n",
       "    .dataframe tbody tr th:only-of-type {\n",
       "        vertical-align: middle;\n",
       "    }\n",
       "\n",
       "    .dataframe tbody tr th {\n",
       "        vertical-align: top;\n",
       "    }\n",
       "\n",
       "    .dataframe thead th {\n",
       "        text-align: right;\n",
       "    }\n",
       "</style>\n",
       "<table border=\"1\" class=\"dataframe\">\n",
       "  <thead>\n",
       "    <tr style=\"text-align: right;\">\n",
       "      <th></th>\n",
       "      <th>Year</th>\n",
       "      <th>Life expectancy</th>\n",
       "      <th>Adult Mortality</th>\n",
       "      <th>infant deaths</th>\n",
       "      <th>Alcohol</th>\n",
       "      <th>percentage expenditure</th>\n",
       "      <th>Hepatitis B</th>\n",
       "      <th>Measles</th>\n",
       "      <th>BMI</th>\n",
       "      <th>under-five deaths</th>\n",
       "      <th>Polio</th>\n",
       "      <th>Total expenditure</th>\n",
       "      <th>Diphtheria</th>\n",
       "      <th>HIV/AIDS</th>\n",
       "      <th>GDP</th>\n",
       "      <th>Population</th>\n",
       "      <th>thinness  1-19 years</th>\n",
       "      <th>thinness 5-9 years</th>\n",
       "      <th>Income composition of resources</th>\n",
       "      <th>Schooling</th>\n",
       "    </tr>\n",
       "  </thead>\n",
       "  <tbody>\n",
       "    <tr>\n",
       "      <th>count</th>\n",
       "      <td>2938.000000</td>\n",
       "      <td>2928.000000</td>\n",
       "      <td>2928.000000</td>\n",
       "      <td>2938.000000</td>\n",
       "      <td>2744.000000</td>\n",
       "      <td>2938.000000</td>\n",
       "      <td>2385.000000</td>\n",
       "      <td>2938.000000</td>\n",
       "      <td>2904.000000</td>\n",
       "      <td>2938.000000</td>\n",
       "      <td>2919.000000</td>\n",
       "      <td>2712.00000</td>\n",
       "      <td>2919.000000</td>\n",
       "      <td>2938.000000</td>\n",
       "      <td>2490.000000</td>\n",
       "      <td>2.286000e+03</td>\n",
       "      <td>2904.000000</td>\n",
       "      <td>2904.000000</td>\n",
       "      <td>2771.000000</td>\n",
       "      <td>2775.000000</td>\n",
       "    </tr>\n",
       "    <tr>\n",
       "      <th>mean</th>\n",
       "      <td>2007.518720</td>\n",
       "      <td>69.224932</td>\n",
       "      <td>164.796448</td>\n",
       "      <td>30.303948</td>\n",
       "      <td>4.602861</td>\n",
       "      <td>738.251295</td>\n",
       "      <td>80.940461</td>\n",
       "      <td>2419.592240</td>\n",
       "      <td>38.321247</td>\n",
       "      <td>42.035739</td>\n",
       "      <td>82.550188</td>\n",
       "      <td>5.93819</td>\n",
       "      <td>82.324084</td>\n",
       "      <td>1.742103</td>\n",
       "      <td>7483.158469</td>\n",
       "      <td>1.275338e+07</td>\n",
       "      <td>4.839704</td>\n",
       "      <td>4.870317</td>\n",
       "      <td>0.627551</td>\n",
       "      <td>11.992793</td>\n",
       "    </tr>\n",
       "    <tr>\n",
       "      <th>std</th>\n",
       "      <td>4.613841</td>\n",
       "      <td>9.523867</td>\n",
       "      <td>124.292079</td>\n",
       "      <td>117.926501</td>\n",
       "      <td>4.052413</td>\n",
       "      <td>1987.914858</td>\n",
       "      <td>25.070016</td>\n",
       "      <td>11467.272489</td>\n",
       "      <td>20.044034</td>\n",
       "      <td>160.445548</td>\n",
       "      <td>23.428046</td>\n",
       "      <td>2.49832</td>\n",
       "      <td>23.716912</td>\n",
       "      <td>5.077785</td>\n",
       "      <td>14270.169342</td>\n",
       "      <td>6.101210e+07</td>\n",
       "      <td>4.420195</td>\n",
       "      <td>4.508882</td>\n",
       "      <td>0.210904</td>\n",
       "      <td>3.358920</td>\n",
       "    </tr>\n",
       "    <tr>\n",
       "      <th>min</th>\n",
       "      <td>2000.000000</td>\n",
       "      <td>36.300000</td>\n",
       "      <td>1.000000</td>\n",
       "      <td>0.000000</td>\n",
       "      <td>0.010000</td>\n",
       "      <td>0.000000</td>\n",
       "      <td>1.000000</td>\n",
       "      <td>0.000000</td>\n",
       "      <td>1.000000</td>\n",
       "      <td>0.000000</td>\n",
       "      <td>3.000000</td>\n",
       "      <td>0.37000</td>\n",
       "      <td>2.000000</td>\n",
       "      <td>0.100000</td>\n",
       "      <td>1.681350</td>\n",
       "      <td>3.400000e+01</td>\n",
       "      <td>0.100000</td>\n",
       "      <td>0.100000</td>\n",
       "      <td>0.000000</td>\n",
       "      <td>0.000000</td>\n",
       "    </tr>\n",
       "    <tr>\n",
       "      <th>25%</th>\n",
       "      <td>2004.000000</td>\n",
       "      <td>63.100000</td>\n",
       "      <td>74.000000</td>\n",
       "      <td>0.000000</td>\n",
       "      <td>0.877500</td>\n",
       "      <td>4.685343</td>\n",
       "      <td>77.000000</td>\n",
       "      <td>0.000000</td>\n",
       "      <td>19.300000</td>\n",
       "      <td>0.000000</td>\n",
       "      <td>78.000000</td>\n",
       "      <td>4.26000</td>\n",
       "      <td>78.000000</td>\n",
       "      <td>0.100000</td>\n",
       "      <td>463.935626</td>\n",
       "      <td>1.957932e+05</td>\n",
       "      <td>1.600000</td>\n",
       "      <td>1.500000</td>\n",
       "      <td>0.493000</td>\n",
       "      <td>10.100000</td>\n",
       "    </tr>\n",
       "    <tr>\n",
       "      <th>50%</th>\n",
       "      <td>2008.000000</td>\n",
       "      <td>72.100000</td>\n",
       "      <td>144.000000</td>\n",
       "      <td>3.000000</td>\n",
       "      <td>3.755000</td>\n",
       "      <td>64.912906</td>\n",
       "      <td>92.000000</td>\n",
       "      <td>17.000000</td>\n",
       "      <td>43.500000</td>\n",
       "      <td>4.000000</td>\n",
       "      <td>93.000000</td>\n",
       "      <td>5.75500</td>\n",
       "      <td>93.000000</td>\n",
       "      <td>0.100000</td>\n",
       "      <td>1766.947595</td>\n",
       "      <td>1.386542e+06</td>\n",
       "      <td>3.300000</td>\n",
       "      <td>3.300000</td>\n",
       "      <td>0.677000</td>\n",
       "      <td>12.300000</td>\n",
       "    </tr>\n",
       "    <tr>\n",
       "      <th>75%</th>\n",
       "      <td>2012.000000</td>\n",
       "      <td>75.700000</td>\n",
       "      <td>228.000000</td>\n",
       "      <td>22.000000</td>\n",
       "      <td>7.702500</td>\n",
       "      <td>441.534144</td>\n",
       "      <td>97.000000</td>\n",
       "      <td>360.250000</td>\n",
       "      <td>56.200000</td>\n",
       "      <td>28.000000</td>\n",
       "      <td>97.000000</td>\n",
       "      <td>7.49250</td>\n",
       "      <td>97.000000</td>\n",
       "      <td>0.800000</td>\n",
       "      <td>5910.806335</td>\n",
       "      <td>7.420359e+06</td>\n",
       "      <td>7.200000</td>\n",
       "      <td>7.200000</td>\n",
       "      <td>0.779000</td>\n",
       "      <td>14.300000</td>\n",
       "    </tr>\n",
       "    <tr>\n",
       "      <th>max</th>\n",
       "      <td>2015.000000</td>\n",
       "      <td>89.000000</td>\n",
       "      <td>723.000000</td>\n",
       "      <td>1800.000000</td>\n",
       "      <td>17.870000</td>\n",
       "      <td>19479.911610</td>\n",
       "      <td>99.000000</td>\n",
       "      <td>212183.000000</td>\n",
       "      <td>87.300000</td>\n",
       "      <td>2500.000000</td>\n",
       "      <td>99.000000</td>\n",
       "      <td>17.60000</td>\n",
       "      <td>99.000000</td>\n",
       "      <td>50.600000</td>\n",
       "      <td>119172.741800</td>\n",
       "      <td>1.293859e+09</td>\n",
       "      <td>27.700000</td>\n",
       "      <td>28.600000</td>\n",
       "      <td>0.948000</td>\n",
       "      <td>20.700000</td>\n",
       "    </tr>\n",
       "  </tbody>\n",
       "</table>\n",
       "</div>"
      ],
      "text/plain": [
       "              Year  Life expectancy  Adult Mortality  infant deaths  \\\n",
       "count  2938.000000      2928.000000      2928.000000    2938.000000   \n",
       "mean   2007.518720        69.224932       164.796448      30.303948   \n",
       "std       4.613841         9.523867       124.292079     117.926501   \n",
       "min    2000.000000        36.300000         1.000000       0.000000   \n",
       "25%    2004.000000        63.100000        74.000000       0.000000   \n",
       "50%    2008.000000        72.100000       144.000000       3.000000   \n",
       "75%    2012.000000        75.700000       228.000000      22.000000   \n",
       "max    2015.000000        89.000000       723.000000    1800.000000   \n",
       "\n",
       "           Alcohol  percentage expenditure  Hepatitis B        Measles  \\\n",
       "count  2744.000000             2938.000000  2385.000000    2938.000000   \n",
       "mean      4.602861              738.251295    80.940461    2419.592240   \n",
       "std       4.052413             1987.914858    25.070016   11467.272489   \n",
       "min       0.010000                0.000000     1.000000       0.000000   \n",
       "25%       0.877500                4.685343    77.000000       0.000000   \n",
       "50%       3.755000               64.912906    92.000000      17.000000   \n",
       "75%       7.702500              441.534144    97.000000     360.250000   \n",
       "max      17.870000            19479.911610    99.000000  212183.000000   \n",
       "\n",
       "               BMI  under-five deaths        Polio  Total expenditure  \\\n",
       "count  2904.000000        2938.000000  2919.000000         2712.00000   \n",
       "mean     38.321247          42.035739    82.550188            5.93819   \n",
       "std      20.044034         160.445548    23.428046            2.49832   \n",
       "min       1.000000           0.000000     3.000000            0.37000   \n",
       "25%      19.300000           0.000000    78.000000            4.26000   \n",
       "50%      43.500000           4.000000    93.000000            5.75500   \n",
       "75%      56.200000          28.000000    97.000000            7.49250   \n",
       "max      87.300000        2500.000000    99.000000           17.60000   \n",
       "\n",
       "        Diphtheria     HIV/AIDS            GDP    Population  \\\n",
       "count  2919.000000  2938.000000    2490.000000  2.286000e+03   \n",
       "mean     82.324084     1.742103    7483.158469  1.275338e+07   \n",
       "std      23.716912     5.077785   14270.169342  6.101210e+07   \n",
       "min       2.000000     0.100000       1.681350  3.400000e+01   \n",
       "25%      78.000000     0.100000     463.935626  1.957932e+05   \n",
       "50%      93.000000     0.100000    1766.947595  1.386542e+06   \n",
       "75%      97.000000     0.800000    5910.806335  7.420359e+06   \n",
       "max      99.000000    50.600000  119172.741800  1.293859e+09   \n",
       "\n",
       "       thinness  1-19 years  thinness 5-9 years  \\\n",
       "count           2904.000000         2904.000000   \n",
       "mean               4.839704            4.870317   \n",
       "std                4.420195            4.508882   \n",
       "min                0.100000            0.100000   \n",
       "25%                1.600000            1.500000   \n",
       "50%                3.300000            3.300000   \n",
       "75%                7.200000            7.200000   \n",
       "max               27.700000           28.600000   \n",
       "\n",
       "       Income composition of resources    Schooling  \n",
       "count                      2771.000000  2775.000000  \n",
       "mean                          0.627551    11.992793  \n",
       "std                           0.210904     3.358920  \n",
       "min                           0.000000     0.000000  \n",
       "25%                           0.493000    10.100000  \n",
       "50%                           0.677000    12.300000  \n",
       "75%                           0.779000    14.300000  \n",
       "max                           0.948000    20.700000  "
      ]
     },
     "execution_count": 2,
     "metadata": {},
     "output_type": "execute_result"
    }
   ],
   "source": [
    "#read in data\n",
    "df = pd.read_csv('Life_Expectancy_Data.csv',sep=r'\\s*,\\s*', engine='python')\n",
    "\n",
    "df.describe()\n"
   ]
  },
  {
   "cell_type": "code",
   "execution_count": 3,
   "id": "residential-nicholas",
   "metadata": {},
   "outputs": [],
   "source": [
    "#remove categorical data\n",
    "df = df._get_numeric_data()\n",
    "\n",
    "#Deal with missing data\n",
    "df = df[df['Life expectancy'].notna()] #drop rows without life expectancy value\n",
    "df= df.fillna(df.mean())# impute other columns with the columns mean\n",
    "\n",
    "#create numpy matrices\n",
    "X = df.drop('Life expectancy',axis=1).to_numpy()\n",
    "X=np.append(np.ones((X.shape[0],1)),X,axis=1) #add column of 1s\n",
    "y = df['Life expectancy'].to_numpy()\n",
    "\n",
    "#initialising weights\n",
    "theta = np.zeros(X.shape[1])\n",
    "n=df.shape[0] #number of training examples\n",
    "d=df.shape[1] #number of features\n",
    "\n",
    "#parameters\n",
    "epsilon = 0.1\n",
    "learning_rate = 0.1"
   ]
  },
  {
   "cell_type": "code",
   "execution_count": null,
   "id": "extended-persian",
   "metadata": {
    "scrolled": true
   },
   "outputs": [],
   "source": [
    "df.describe()"
   ]
  },
  {
   "cell_type": "code",
   "execution_count": null,
   "id": "consistent-tunnel",
   "metadata": {
    "scrolled": true
   },
   "outputs": [],
   "source": [
    "print(X)\n",
    "print(y)"
   ]
  },
  {
   "cell_type": "code",
   "execution_count": 4,
   "id": "italian-manner",
   "metadata": {},
   "outputs": [],
   "source": [
    "def cost(X,y,theta):\n",
    "    h= np.dot(X,theta) #don't need to transpose theta as in numpy row vectors and column vectors are the same\n",
    "    return (1/(2*n))*np.sum(np.square(h-y))"
   ]
  },
  {
   "cell_type": "code",
   "execution_count": null,
   "id": "superb-password",
   "metadata": {},
   "outputs": [],
   "source": [
    "print(cost(X,y,theta))"
   ]
  },
  {
   "cell_type": "code",
   "execution_count": 41,
   "id": "controlled-spotlight",
   "metadata": {},
   "outputs": [],
   "source": [
    "def gradient_descent_single_feature(X,y,theta,alpha,epsilon):\n",
    "    #plot setup\n",
    "    \n",
    "    fig,ax = plt.subplots(1,1)\n",
    "    ax.scatter(X[:,1],y)\n",
    "    ax.set_xlabel(\"adult mortalility\")\n",
    "    ax.set_ylabel(\"life expectancy\")\n",
    "    x_plot = np.linspace(0,700,100)\n",
    "    \n",
    "    ax.plot(x_plot, theta[0]+x_plot*theta[1], color='orange')\n",
    "    print(ax.lines)\n",
    "    plt.show()\n",
    "    n= X.shape[0]\n",
    "    j = []\n",
    "    i=0\n",
    "    old_theta=theta +122\n",
    "    j.append(cost(X,y,theta))\n",
    "    while((np.absolute(old_theta-theta)>epsilon).any()):\n",
    "    #for i in range (200000):\n",
    "        \n",
    "        i+=1\n",
    "        if(i%10000 ==0): \n",
    "            #plt.plot(x_plot, theta[0]+x_plot*theta[1])\n",
    "            #reg_line.set_xdata(x_plot)\n",
    "            #reg_line.set_ydata(theta[0]+x_plot*theta[1])\n",
    "            plt.draw()\n",
    "            print('.', end=\"\")\n",
    "        h=np.dot(X,theta)\n",
    "        error = h-y\n",
    "        old_theta=theta\n",
    "        theta= theta - (alpha/n)*(np.dot((error),X))\n",
    "        j.append(cost(X,y,theta))\n",
    "    #\n",
    "    print(j[len(j)-1])\n",
    "    print(i)\n",
    "    print(old_theta-theta)"
   ]
  },
  {
   "cell_type": "code",
   "execution_count": null,
   "id": "swedish-mining",
   "metadata": {
    "scrolled": true
   },
   "outputs": [],
   "source": [
    "gradient_descent(X,y,theta,0.01,0.01)"
   ]
  },
  {
   "cell_type": "code",
   "execution_count": 42,
   "id": "prescription-administrator",
   "metadata": {},
   "outputs": [
    {
     "data": {
      "text/plain": [
       "[<matplotlib.lines.Line2D at 0x7f6de8f85430>]"
      ]
     },
     "execution_count": 42,
     "metadata": {},
     "output_type": "execute_result"
    },
    {
     "data": {
      "image/png": "[encoded data removed]",
      "text/plain": [
       "<Figure size 432x288 with 1 Axes>"
      ]
     },
     "metadata": {
      "needs_background": "light"
     },
     "output_type": "display_data"
    }
   ],
   "source": [
    "#in this section I will train gradient descent on just 1 feature (adult mortalility)\n",
    "#to allow for 2 dimensional data representation\n",
    "#Adult mortalility of a country has quite a recognisable relationship with life expectancy\n",
    "#it is therefore a good feature to use if only using 1.\n",
    "\n",
    "X_one_feature =X[:,[0,2]] #X matrix containing a row of ones and only the adult mortalility feature\n",
    "theta_one_feature=theta[0:2]# 2 dimensional vector of zeros\n",
    "\n",
    "\n",
    "\n",
    "plt.scatter(X_one_feature[:,1],y)\n",
    "plt.xlabel(\"adult mortalility\")\n",
    "plt.ylabel(\"life expectancy\")\n",
    "\n",
    "x_plot = np.linspace(0,700,100)\n",
    "plt.plot(x_plot, theta[0]+x_plot*theta[1])\n",
    "\n"
   ]
  },
  {
   "cell_type": "code",
   "execution_count": 43,
   "id": "understood-stress",
   "metadata": {},
   "outputs": [
    {
     "name": "stdout",
     "output_type": "stream",
     "text": [
      "[<matplotlib.lines.Line2D object at 0x7f6de6b43760>]\n"
     ]
    },
    {
     "data": {
      "image/png": "[encoded data removed]",
      "text/plain": [
       "<Figure size 432x288 with 1 Axes>"
      ]
     },
     "metadata": {
      "needs_background": "light"
     },
     "output_type": "display_data"
    },
    {
     "name": "stdout",
     "output_type": "stream",
     "text": [
      "........................................23.50536272525709\n",
      "408348\n",
      "[-9.99989265e-06  3.86835144e-08]\n"
     ]
    },
    {
     "data": {
      "text/plain": [
       "<Figure size 432x288 with 0 Axes>"
      ]
     },
     "metadata": {},
     "output_type": "display_data"
    }
   ],
   "source": [
    "gradient_descent_single_feature(X_one_feature,y,theta_one_feature,0.00003,0.00001) #1 feature GD - adult mortality"
   ]
  },
  {
   "cell_type": "code",
   "execution_count": null,
   "id": "acoustic-calvin",
   "metadata": {},
   "outputs": [],
   "source": [
    "print(X[0:3,[0,2]])\n",
    "print(theta[0:3])"
   ]
  },
  {
   "cell_type": "code",
   "execution_count": null,
   "id": "lyric-haven",
   "metadata": {},
   "outputs": [],
   "source": [
    "print(y[0:3])"
   ]
  },
  {
   "cell_type": "code",
   "execution_count": null,
   "id": "metric-wedding",
   "metadata": {},
   "outputs": [],
   "source": []
  }
 ],
 "metadata": {
  "kernelspec": {
   "display_name": "Python 3",
   "language": "python",
   "name": "python3"
  },
  "language_info": {
   "codemirror_mode": {
    "name": "ipython",
    "version": 3
   },
   "file_extension": ".py",
   "mimetype": "text/x-python",
   "name": "python",
   "nbconvert_exporter": "python",
   "pygments_lexer": "ipython3",
   "version": "3.8.5"
  }
 },
 "nbformat": 4,
 "nbformat_minor": 5
}
